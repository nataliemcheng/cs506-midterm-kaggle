{
 "cells": [
  {
   "cell_type": "markdown",
   "metadata": {},
   "source": [
    "# Libraries"
   ]
  },
  {
   "cell_type": "code",
   "execution_count": 104,
   "metadata": {},
   "outputs": [],
   "source": [
    "import pickle\n",
    "import pandas as pd\n",
    "import numpy as np\n",
    "import seaborn as sns\n",
    "from os.path import exists\n",
    "import matplotlib.pyplot as plt\n",
    "from sklearn.neighbors import KNeighborsClassifier\n",
    "from sklearn.model_selection import train_test_split\n",
    "from sklearn.metrics import accuracy_score, confusion_matrix, classification_report"
   ]
  },
  {
   "cell_type": "markdown",
   "metadata": {},
   "source": [
    "# Loading the Files\n",
    "\n",
    "Download the csv files into the `data/` directory."
   ]
  },
  {
   "cell_type": "code",
   "execution_count": 105,
   "metadata": {},
   "outputs": [
    {
     "name": "stdout",
     "output_type": "stream",
     "text": [
      "train.csv shape is  (1697533, 9)\n",
      "test.csv shape is  (212192, 2)\n",
      "\n",
      "Training Set:\n",
      "        Id   ProductId          UserId  HelpfulnessNumerator  \\\n",
      "0   914403  B0009W5KHM   AV6QDP8Q0ONK4                     2   \n",
      "1   354887  6303079709  A2I8RXJN80A2D2                     0   \n",
      "2  1407653  B004H0M2XC  A3FHV3RV8Z12E6                     0   \n",
      "3  1377458  B003ZJ9536  A12VLTA3ZHVPUY                     1   \n",
      "4   475323  630574453X  A13NM1PES9OXVN                     2   \n",
      "\n",
      "   HelpfulnessDenominator        Time  \\\n",
      "0                       2  1341014400   \n",
      "1                       0  1168819200   \n",
      "2                       0  1386201600   \n",
      "3                       1  1348704000   \n",
      "4                       3   970012800   \n",
      "\n",
      "                                         Summary  \\\n",
      "0                                  GOOD FUN FILM   \n",
      "1                                   Movie Review   \n",
      "2             When is it a good time to Consent?   \n",
      "3                                          TRUTH   \n",
      "4  Intelligent and bittersweet -- stays with you   \n",
      "\n",
      "                                                Text  Score  \n",
      "0  While most straight to DVD films are not worth...    5.0  \n",
      "1  I have wanted this one for sometime, also.  I ...    5.0  \n",
      "2  Actually this was a pretty darn good indie fil...    4.0  \n",
      "3  Episodes 37 to 72 of the series press on in a ...    5.0  \n",
      "4  I was really impressed with this movie, but wa...    3.0  \n",
      "\n",
      "Testing Set:\n",
      "        Id  Score\n",
      "0  1323432    NaN\n",
      "1  1137299    NaN\n",
      "2  1459366    NaN\n",
      "3   931601    NaN\n",
      "4  1311995    NaN\n",
      "\n",
      "                 Id  HelpfulnessNumerator  HelpfulnessDenominator  \\\n",
      "count  1.697533e+06          1.697533e+06            1.697533e+06   \n",
      "mean   8.487660e+05          3.569048e+00            5.301422e+00   \n",
      "std    4.900357e+05          1.727883e+01            2.024445e+01   \n",
      "min    0.000000e+00          0.000000e+00            0.000000e+00   \n",
      "25%    4.243830e+05          0.000000e+00            0.000000e+00   \n",
      "50%    8.487660e+05          1.000000e+00            1.000000e+00   \n",
      "75%    1.273149e+06          3.000000e+00            5.000000e+00   \n",
      "max    1.697532e+06          6.084000e+03            6.510000e+03   \n",
      "\n",
      "               Time         Score  \n",
      "count  1.697533e+06  1.485341e+06  \n",
      "mean   1.262422e+09  4.110517e+00  \n",
      "std    1.289277e+08  1.197651e+00  \n",
      "min    8.793792e+08  1.000000e+00  \n",
      "25%    1.164413e+09  4.000000e+00  \n",
      "50%    1.307491e+09  5.000000e+00  \n",
      "75%    1.373242e+09  5.000000e+00  \n",
      "max    1.406074e+09  5.000000e+00  \n"
     ]
    },
    {
     "data": {
      "image/png": "[encoded data removed]",
      "text/plain": [
       "<Figure size 432x288 with 1 Axes>"
      ]
     },
     "metadata": {
      "needs_background": "light"
     },
     "output_type": "display_data"
    },
    {
     "name": "stdout",
     "output_type": "stream",
     "text": [
      "\n",
      "EVERYTHING IS PROPERLY SET UP! YOU ARE READY TO START\n"
     ]
    }
   ],
   "source": [
    "import csv\n",
    "\n",
    "trainingSet = pd.read_csv(\"./data/train.csv\")\n",
    "testingSet = pd.read_csv(\"./data/test.csv\")\n",
    "\n",
    "print(\"train.csv shape is \", trainingSet.shape)\n",
    "print(\"test.csv shape is \", testingSet.shape)\n",
    "\n",
    "print()\n",
    "\n",
    "print(\"Training Set:\")\n",
    "print(trainingSet.head())\n",
    "print()\n",
    "print(\"Testing Set:\")\n",
    "print(testingSet.head())\n",
    "\n",
    "print()\n",
    "\n",
    "print(trainingSet.describe())\n",
    "\n",
    "trainingSet['Score'].value_counts().plot(kind='bar', legend=True, alpha=.5)\n",
    "plt.show()\n",
    "\n",
    "print()\n",
    "print(\"EVERYTHING IS PROPERLY SET UP! YOU ARE READY TO START\")\n"
   ]
  },
  {
   "cell_type": "code",
   "execution_count": 106,
   "metadata": {},
   "outputs": [
    {
     "name": "stdout",
     "output_type": "stream",
     "text": [
      "Missing data in train set:             Total    Percent\n",
      "Score      212192  12.500022\n",
      "Text           62   0.003652\n",
      "Summary        32   0.001885\n",
      "Id              0   0.000000\n",
      "ProductId       0   0.000000\n",
      "Missing data in test set:         Total  Percent\n",
      "Score  212192    100.0\n",
      "Id          0      0.0\n"
     ]
    }
   ],
   "source": [
    "def check_missing(df):\n",
    "    \n",
    "    total = df.isnull().sum().sort_values(ascending = False)\n",
    "    percent = (df.isnull().sum()/df.isnull().count()*100).sort_values(ascending = False)\n",
    "    missing_data  = pd.concat([total, percent], axis=1, keys=['Total', 'Percent'])\n",
    "    return missing_data\n",
    "\n",
    "missing_data_df = check_missing(trainingSet)\n",
    "missing_data_test = check_missing(testingSet)\n",
    "print('Missing data in train set:' , missing_data_df.head())\n",
    "print('Missing data in test set:'  ,missing_data_test.head())"
   ]
  },
  {
   "cell_type": "markdown",
   "metadata": {},
   "source": [
    "# Adding Features"
   ]
  },
  {
   "cell_type": "code",
   "execution_count": 107,
   "metadata": {},
   "outputs": [
    {
     "name": "stderr",
     "output_type": "stream",
     "text": [
      "[nltk_data] Downloading package punkt to\n",
      "[nltk_data]     /Users/nataliecheng/nltk_data...\n",
      "[nltk_data]   Package punkt is already up-to-date!\n",
      "[nltk_data] Downloading package stopwords to\n",
      "[nltk_data]     /Users/nataliecheng/nltk_data...\n",
      "[nltk_data]   Package stopwords is already up-to-date!\n",
      "[nltk_data] Downloading package averaged_perceptron_tagger to\n",
      "[nltk_data]     /Users/nataliecheng/nltk_data...\n",
      "[nltk_data]   Package averaged_perceptron_tagger is already up-to-\n",
      "[nltk_data]       date!\n",
      "[nltk_data] Downloading package wordnet to\n",
      "[nltk_data]     /Users/nataliecheng/nltk_data...\n",
      "[nltk_data]   Package wordnet is already up-to-date!\n"
     ]
    },
    {
     "name": "stdout",
     "output_type": "stream",
     "text": [
      "in load_embeddings\n",
      "Starting add_features_to()\n",
      "Pre-processing Text\n",
      "Startng TF-IDF\n",
      "Finished TF-IDF\n",
      "Starting embeddings\n",
      "Completed Embeddings\n",
      "Warning: NaN values detected in DataFrame after processing.\n",
      "add_features_to done\n"
     ]
    }
   ],
   "source": [
    "import nltk\n",
    "nltk.download('punkt')\n",
    "nltk.download('stopwords')\n",
    "nltk.download('averaged_perceptron_tagger')\n",
    "nltk.download('wordnet')\n",
    "from sklearn.feature_extraction.text import TfidfVectorizer\n",
    "from nltk.tokenize import RegexpTokenizer\n",
    "from nltk.corpus import stopwords\n",
    "from nltk.stem import WordNetLemmatizer\n",
    "from textblob import TextBlob\n",
    "\n",
    "# Load the embeddings, using word2vec.txt from Lecture 8\n",
    "def load_embeddings(filepath):\n",
    "    print(\"in load_embeddings\")\n",
    "    word_vectors = {}\n",
    "    with open(filepath, 'r', encoding='utf-8') as f:\n",
    "        for line in f:\n",
    "            values = line.split()\n",
    "            word = values[0]\n",
    "            vector = np.asarray(values[1:], \"float32\")\n",
    "            word_vectors[word] = vector\n",
    "    return word_vectors\n",
    "word_vectors = load_embeddings('./data/word2vec.txt')\n",
    "\n",
    "# Compute weighted embedding for a single document\n",
    "def get_weighted_embedding(text, tfidf_vector, vectorizer, word_vectors):\n",
    "    words = text.split()\n",
    "    embedding = np.zeros(300)  # Assuming 300-dimensional embeddings\n",
    "    total_weight = 0.0\n",
    "\n",
    "    for word in words:\n",
    "        if word in vectorizer.vocabulary_ and word in word_vectors:\n",
    "            tfidf_weight = tfidf_vector[0, vectorizer.vocabulary_[word]]\n",
    "            embedding += tfidf_weight * word_vectors[word]\n",
    "            total_weight += tfidf_weight\n",
    "\n",
    "    if total_weight > 0:\n",
    "        embedding /= total_weight\n",
    "\n",
    "    return embedding\n",
    "\n",
    "# For preprocessing text\n",
    "def preprocess_text(text):\n",
    "    # Initialize necessary components\n",
    "    lemmatizer = WordNetLemmatizer()\n",
    "    tokenizer = RegexpTokenizer(r'\\w+')  # Tokenizes words only\n",
    "    stop_words = set(stopwords.words('english'))\n",
    "\n",
    "    # Lowercase and remove punctuation\n",
    "    text = text.lower()\n",
    "    \n",
    "    # Tokenize and lemmatize\n",
    "    tokens = tokenizer.tokenize(text)\n",
    "    tokens = [lemmatizer.lemmatize(word) for word in tokens if word not in stop_words]\n",
    "\n",
    "    # Join tokens back to a single string\n",
    "    return \" \".join(tokens)\n",
    "\n",
    "# For improving sentiment analysis\n",
    "def sentiment_analysis(text):\n",
    "    analysis = TextBlob(text)\n",
    "    return analysis.sentiment.polarity, analysis.sentiment.subjectivity\n",
    "\n",
    "def add_features_to(df):\n",
    "    print(\"Starting add_features_to()\")\n",
    "    # This is where you can do all your feature extraction\n",
    "    \n",
    "    df['Helpfulness'] = df['HelpfulnessNumerator'] / df['HelpfulnessDenominator']\n",
    "    df['Helpfulness'] = df['Helpfulness'].fillna(0)\n",
    "\n",
    "    # Preprocess Text\n",
    "    print(\"Pre-processing Text\")\n",
    "    df['Text'] = df['Text'].fillna('')\n",
    "    df['Summary'] = df['Summary'].fillna('')\n",
    "    df['CombinedText'] = df['Text'] + \" \" + df['Summary']\n",
    "    df['ProcessedText'] = df['CombinedText'].apply(preprocess_text)\n",
    "\n",
    "    # Add sentiment features\n",
    "    df['SentimentPolarity'], df['SentimentSubjectivity'] = zip(*df['ProcessedText'].apply(sentiment_analysis))\n",
    "\n",
    "    # Text Length Feature\n",
    "    df['TextLength'] = df['ProcessedText'].apply(lambda x: len(x.split()))\n",
    "\n",
    "    # TF-IDF\n",
    "    print(\"Startng TF-IDF\")\n",
    "    vectorizer = TfidfVectorizer(stop_words='english', min_df=4,max_df=0.8)\n",
    "    tfidf_matrix = vectorizer.fit_transform(df['ProcessedText'])\n",
    "    normalized_tfidf = tfidf_matrix / tfidf_matrix.max()\n",
    "    print(\"Finished TF-IDF\")\n",
    "\n",
    "    # centered_dtm = tfidf_matrix - np.mean(tfidf_matrix, axis=0)\n",
    "    # u, s, vt = np.linalg.svd(centered_dtm.toarray(), full_matrices=False)\n",
    "\n",
    "    # Weighted embeddings\n",
    "    print(\"Starting embeddings\")\n",
    "    embeddings = []\n",
    "    for i, text in enumerate(df['ProcessedText']):\n",
    "        tfidf_vector = normalized_tfidf[i]\n",
    "        weighted_embedding = get_weighted_embedding(text, tfidf_vector, vectorizer, word_vectors)\n",
    "        embeddings.append(weighted_embedding)\n",
    "    df['WeightedEmbedding'] = embeddings\n",
    "    print(\"Completed Embeddings\")\n",
    "\n",
    "    # Converts object to numeric\n",
    "    df['WeightedEmbedding'] = df['WeightedEmbedding'].apply(lambda x: np.mean(x, axis=0))\n",
    "\n",
    "    # Check if any NaN values exist in the final DataFrame\n",
    "    if df.isnull().values.any():\n",
    "        print(\"Warning: NaN values detected in DataFrame after processing.\")\n",
    "        df.fillna(0, inplace=True)  # or handle accordingly\n",
    "\n",
    "    print(\"add_features_to done\")\n",
    "    return df\n",
    "\n",
    "# Load the feature extracted files if they've already been generated\n",
    "if exists('./data/X_train.csv'):\n",
    "    X_train = pd.read_csv(\"./data/X_train.csv\")\n",
    "if exists('./data/X_submission.csv'):\n",
    "    X_submission = pd.read_csv(\"./data/X_submission.csv\")\n",
    "\n",
    "else:\n",
    "    # Process the DataFrame\n",
    "    # sampled_train = trainingSet.sample(n=20000, random_state=42)\n",
    "    train = add_features_to(trainingSet)\n",
    "\n",
    "    # Merge on Id so that the submission set can have feature columns as well\n",
    "    X_submission = pd.merge(train, testingSet, left_on='Id', right_on='Id')\n",
    "    X_submission = X_submission.drop(columns=['Score_x'])\n",
    "    X_submission = X_submission.rename(columns={'Score_y': 'Score'})\n",
    "\n",
    "    # The training set is where the score is not null\n",
    "    X_train =  train[train['Score'].notnull()]\n",
    "\n",
    "    X_submission.to_csv(\"./data/X_submission.csv\", index=False)\n",
    "    X_train.to_csv(\"./data/X_train.csv\", index=False)"
   ]
  },
  {
   "cell_type": "markdown",
   "metadata": {},
   "source": [
    "# Sample + Split into training and testing set"
   ]
  },
  {
   "cell_type": "code",
   "execution_count": 108,
   "metadata": {},
   "outputs": [],
   "source": [
    "# Split training set into training and testing set\n",
    "X_train, X_test, Y_train, Y_test = train_test_split(\n",
    "    X_train.drop(columns=['Score']),\n",
    "    X_train['Score'],\n",
    "    test_size=1/4.0,\n",
    "    random_state=0\n",
    ")"
   ]
  },
  {
   "cell_type": "markdown",
   "metadata": {},
   "source": [
    "# Feature Selection"
   ]
  },
  {
   "cell_type": "code",
   "execution_count": 109,
   "metadata": {},
   "outputs": [],
   "source": [
    "features = ['HelpfulnessNumerator', 'HelpfulnessDenominator', 'Time', 'Helpfulness',\n",
    "            'SentimentPolarity', 'SentimentSubjectivity', 'TextLength', 'WeightedEmbedding']\n",
    "\n",
    "X_train_select = X_train[features]\n",
    "X_test_select = X_test[features]\n",
    "X_submission_select = X_submission[features]"
   ]
  },
  {
   "cell_type": "code",
   "execution_count": 110,
   "metadata": {},
   "outputs": [
    {
     "name": "stdout",
     "output_type": "stream",
     "text": [
      "Missing data in train set:                         Total  Percent\n",
      "HelpfulnessNumerator        0      0.0\n",
      "HelpfulnessDenominator      0      0.0\n",
      "Time                        0      0.0\n",
      "Helpfulness                 0      0.0\n",
      "SentimentPolarity           0      0.0\n",
      "\n",
      "Missing data in test set:                         Total  Percent\n",
      "HelpfulnessNumerator        0      0.0\n",
      "HelpfulnessDenominator      0      0.0\n",
      "Time                        0      0.0\n",
      "Helpfulness                 0      0.0\n",
      "SentimentPolarity           0      0.0\n",
      "\n",
      "X_train_select shape: (1273149, 8)\n",
      "Y_train shape: (1273149,)\n",
      "Y_train type: <class 'pandas.core.series.Series'>\n",
      "X_submission_select shape: (212192, 8)\n",
      "\n",
      "Data types in X_train_select:\n",
      " HelpfulnessNumerator        int64\n",
      "HelpfulnessDenominator      int64\n",
      "Time                        int64\n",
      "Helpfulness               float64\n",
      "SentimentPolarity         float64\n",
      "SentimentSubjectivity     float64\n",
      "TextLength                  int64\n",
      "WeightedEmbedding         float64\n",
      "dtype: object\n"
     ]
    }
   ],
   "source": [
    "missing_data_df = check_missing(X_train_select)\n",
    "missing_data_test = check_missing(X_test_select)\n",
    "print('Missing data in train set:' , missing_data_df.head())\n",
    "print()\n",
    "print('Missing data in test set:'  ,missing_data_test.head())\n",
    "print()\n",
    "print(\"X_train_select shape:\", X_train_select.shape)\n",
    "print(\"Y_train shape:\", Y_train.shape)\n",
    "print(\"Y_train type:\", type(Y_train))\n",
    "print(\"X_submission_select shape:\", X_submission_select.shape)\n",
    "print()\n",
    "print(\"Data types in X_train_select:\\n\", X_train_select.dtypes)\n"
   ]
  },
  {
   "cell_type": "markdown",
   "metadata": {},
   "source": [
    "# Model Creation"
   ]
  },
  {
   "cell_type": "code",
   "execution_count": null,
   "metadata": {},
   "outputs": [],
   "source": [
    "# Finding best params\n",
    "from sklearn.ensemble import RandomForestClassifier\n",
    "from sklearn.model_selection import GridSearchCV\n",
    "\n",
    "# For Random Forest\n",
    "rf_param_grid = {\n",
    "    'n_estimators': [100, 200, 300],  # Number of trees\n",
    "    'max_depth': [None, 10, 20, 30],  # Maximum depth of the tree\n",
    "    'min_samples_split': [2, 5, 10],  # Minimum samples required to split an internal node\n",
    "    'min_samples_leaf': [1, 2, 4],    # Minimum samples required to be at a leaf node\n",
    "}\n",
    "\n",
    "rf_grid_search = GridSearchCV(estimator=RandomForestClassifier(random_state=42),\n",
    "                               param_grid=rf_param_grid,\n",
    "                               scoring='accuracy',  \n",
    "                               cv=5,  # 5-fold cross-validation  \n",
    "                               n_jobs=-1)  \n",
    "\n",
    "rf_grid_search.fit(X_train_select, Y_train)\n",
    "\n",
    "# Get the best parameters and best score\n",
    "print(\"Best parameters for Random Forest:\", rf_grid_search.best_params_)\n",
    "print(\"Best cross-validated score:\", rf_grid_search.best_score_)\n",
    "\n",
    "# For KNN\n",
    "knn_param_grid = {\n",
    "    'n_neighbors': [100, 200, 300],  # Number of neighbors\n",
    "    'weights': ['uniform', 'distance'],  # Weight function used in prediction\n",
    "    'algorithm': ['auto', 'ball_tree', 'kd_tree', 'brute'],  # Algorithm used to compute the nearest neighbors\n",
    "}\n",
    "\n",
    "knn_grid_search = GridSearchCV(estimator=KNeighborsClassifier(),\n",
    "                               param_grid=knn_param_grid,\n",
    "                               scoring='accuracy', \n",
    "                               cv=5,  # 5-fold cross-validation  \n",
    "                               n_jobs=-1)  \n",
    "\n",
    "knn_grid_search.fit(X_train_select, Y_train)\n",
    "\n",
    "# Get the best parameters and best score\n",
    "print(\"Best parameters for KNN:\", knn_grid_search.best_params_)\n",
    "print(\"Best cross-validated score:\", knn_grid_search.best_score_)\n"
   ]
  },
  {
   "cell_type": "code",
   "execution_count": 111,
   "metadata": {},
   "outputs": [],
   "source": [
    "# Learn the model\n",
    "model = RandomForestClassifier(n_estimators=300, random_state=42, max_depth=10, min_samples_leaf=4, min_samples_split=10)\n",
    "model.fit(X_train_select, Y_train)\n",
    "Y_test_predictions = model.predict(X_test_select)"
   ]
  },
  {
   "cell_type": "markdown",
   "metadata": {},
   "source": [
    "# Model Evaluation"
   ]
  },
  {
   "cell_type": "code",
   "execution_count": 112,
   "metadata": {},
   "outputs": [
    {
     "name": "stdout",
     "output_type": "stream",
     "text": [
      "Accuracy on testing set =  0.4960860918413512\n"
     ]
    },
    {
     "data": {
      "image/png": "[encoded data removed]",
      "text/plain": [
       "<Figure size 432x288 with 2 Axes>"
      ]
     },
     "metadata": {
      "needs_background": "light"
     },
     "output_type": "display_data"
    },
    {
     "name": "stdout",
     "output_type": "stream",
     "text": [
      "Classification Report: \n"
     ]
    },
    {
     "name": "stderr",
     "output_type": "stream",
     "text": [
      "/Users/nataliecheng/opt/anaconda3/lib/python3.9/site-packages/sklearn/metrics/_classification.py:1248: UndefinedMetricWarning: Precision and F-score are ill-defined and being set to 0.0 in labels with no predicted samples. Use `zero_division` parameter to control this behavior.\n",
      "  _warn_prf(average, modifier, msg_start, len(result))\n",
      "/Users/nataliecheng/opt/anaconda3/lib/python3.9/site-packages/sklearn/metrics/_classification.py:1248: UndefinedMetricWarning: Precision and F-score are ill-defined and being set to 0.0 in labels with no predicted samples. Use `zero_division` parameter to control this behavior.\n",
      "  _warn_prf(average, modifier, msg_start, len(result))\n"
     ]
    },
    {
     "name": "stdout",
     "output_type": "stream",
     "text": [
      "              precision    recall  f1-score   support\n",
      "\n",
      "         0.0       0.00      0.00      0.00     52924\n",
      "         1.0       0.46      0.56      0.51     22896\n",
      "         2.0       0.27      0.04      0.07     22427\n",
      "         3.0       0.26      0.05      0.08     44034\n",
      "         4.0       0.29      0.03      0.06     84142\n",
      "         5.0       0.51      0.97      0.67    197961\n",
      "\n",
      "    accuracy                           0.50    424384\n",
      "   macro avg       0.30      0.27      0.23    424384\n",
      "weighted avg       0.36      0.50      0.36    424384\n",
      "\n"
     ]
    },
    {
     "name": "stderr",
     "output_type": "stream",
     "text": [
      "/Users/nataliecheng/opt/anaconda3/lib/python3.9/site-packages/sklearn/metrics/_classification.py:1248: UndefinedMetricWarning: Precision and F-score are ill-defined and being set to 0.0 in labels with no predicted samples. Use `zero_division` parameter to control this behavior.\n",
      "  _warn_prf(average, modifier, msg_start, len(result))\n"
     ]
    }
   ],
   "source": [
    "# Evaluate your model on the testing set\n",
    "print(\"Accuracy on testing set = \", accuracy_score(Y_test, Y_test_predictions))\n",
    "\n",
    "# Plot a confusion matrix\n",
    "cm = confusion_matrix(Y_test, Y_test_predictions, normalize='true')\n",
    "sns.heatmap(cm, annot=True)\n",
    "plt.title('Confusion matrix of the classifier')\n",
    "plt.xlabel('Predicted')\n",
    "plt.ylabel('True')\n",
    "plt.show()\n",
    "\n",
    "# Classification Report\n",
    "print(\"Classification Report: \")\n",
    "print(classification_report(Y_test, Y_test_predictions))"
   ]
  },
  {
   "cell_type": "markdown",
   "metadata": {},
   "source": [
    "# Create submission file"
   ]
  },
  {
   "cell_type": "code",
   "execution_count": 113,
   "metadata": {},
   "outputs": [
    {
     "name": "stdout",
     "output_type": "stream",
     "text": [
      "Number of rows: 212192\n"
     ]
    }
   ],
   "source": [
    "# Create the submission file\n",
    "X_submission['Score'] = model.predict(X_submission_select)\n",
    "submission = X_submission[['Id', 'Score']]\n",
    "submission.to_csv(\"./data/submission.csv\", index=False)\n",
    "print(\"Number of rows:\", submission.shape[0])"
   ]
  },
  {
   "cell_type": "code",
   "execution_count": null,
   "metadata": {},
   "outputs": [],
   "source": []
  }
 ],
 "metadata": {
  "kernelspec": {
   "display_name": "base",
   "language": "python",
   "name": "python3"
  },
  "language_info": {
   "codemirror_mode": {
    "name": "ipython",
    "version": 3
   },
   "file_extension": ".py",
   "mimetype": "text/x-python",
   "name": "python",
   "nbconvert_exporter": "python",
   "pygments_lexer": "ipython3",
   "version": "3.9.7"
  }
 },
 "nbformat": 4,
 "nbformat_minor": 2
}
